{
 "cells": [
  {
   "cell_type": "markdown",
   "metadata": {},
   "source": [
    "### Import Libraries"
   ]
  },
  {
   "cell_type": "code",
   "execution_count": null,
   "metadata": {},
   "outputs": [],
   "source": [
    "### Import libraries\n",
    "import os\n",
    "import getpass\n",
    "import langchain\n",
    "from langchain_community.document_loaders import PyPDFLoader\n",
    "from dotenv import load_dotenv\n",
    "from langchain_community.vectorstores import FAISS\n",
    "from langchain_openai import OpenAIEmbeddings"
   ]
  },
  {
   "cell_type": "markdown",
   "metadata": {},
   "source": [
    "### Import Api Keys"
   ]
  },
  {
   "cell_type": "code",
   "execution_count": null,
   "metadata": {},
   "outputs": [],
   "source": [
    "### Import  Open API Key\n",
    "load_dotenv()  # Load variables from the .env file\n",
    "\n",
    "# Access API keys using os.environ\n",
    "OPENAI_API_KEY= os.environ.get('Open_AI_API_Key') \n",
    "LANGCHAIN_API_KEY = os.environ.get('Lang_chain_API_Key')"
   ]
  },
  {
   "cell_type": "markdown",
   "metadata": {},
   "source": [
    "### Load PDF "
   ]
  },
  {
   "cell_type": "code",
   "execution_count": 2,
   "metadata": {},
   "outputs": [],
   "source": [
    "## Load pdf file\n",
    "loader = PyPDFLoader(\"document/file_proposal.pdf\")"
   ]
  },
  {
   "cell_type": "markdown",
   "metadata": {},
   "source": [
    "### Split PDF into Pages"
   ]
  },
  {
   "cell_type": "code",
   "execution_count": 3,
   "metadata": {},
   "outputs": [
    {
     "name": "stderr",
     "output_type": "stream",
     "text": [
      "Ignoring wrong pointing object 17 0 (offset 0)\n",
      "Ignoring wrong pointing object 26 0 (offset 0)\n",
      "Ignoring wrong pointing object 56 0 (offset 0)\n",
      "Ignoring wrong pointing object 59 0 (offset 0)\n"
     ]
    }
   ],
   "source": [
    "#split pdf into pages\n",
    "pages = loader.load_and_split()"
   ]
  },
  {
   "cell_type": "markdown",
   "metadata": {},
   "source": [
    "### Retrieve answer from document"
   ]
  },
  {
   "cell_type": "code",
   "execution_count": 18,
   "metadata": {},
   "outputs": [
    {
     "name": "stdout",
     "output_type": "stream",
     "text": [
      "2: Figure 1 Schematic Diagram of shell and tube heat exchanger A. Background of Study Heat exchangers are essential for efficient heat transfer in industrial processes but are susceptible to fouling, corrosion, and other degradation leading to failures and losses (Ali et al., 2020). Predicting and preventing heat exchanger failures using data-driven approaches is crucial for improving reliability and operational efficiency. Research has focused on developing predictive maintenance strategies using statistical modeling and variable selection to predict fouling and degradation (Ardsomang, Hines and\n",
      "3: Numerical simulations and experimental studies are extensively used to assess heat exchanger performance (Anitha Kumari et al., 2023). Methods like CFD modeling and finite element analysis help optimize designs and predict thermal characteristics. The integration of machine learning and AI has shown promise in predicting fouling, corrosion, and other degradation mechanisms (Lubnow et al., 2014; Faes et al., 2019; Saggu et al., 2020). By using historical data and sensor readings, predictive models can anticipate failures and optimize maintenance. This background research is a multidisciplinary \n"
     ]
    }
   ],
   "source": [
    "faiss_index = FAISS.from_documents(pages, OpenAIEmbeddings())\n",
    "docs = faiss_index.similarity_search(\"What are heat exchangers?\", k=2)\n",
    "for doc in docs:\n",
    "    print(str(doc.metadata[\"page\"]) + \":\", doc.page_content[:600])"
   ]
  }
 ],
 "metadata": {
  "kernelspec": {
   "display_name": "anaconda",
   "language": "python",
   "name": "python3"
  },
  "language_info": {
   "codemirror_mode": {
    "name": "ipython",
    "version": 3
   },
   "file_extension": ".py",
   "mimetype": "text/x-python",
   "name": "python",
   "nbconvert_exporter": "python",
   "pygments_lexer": "ipython3",
   "version": "3.9.18"
  }
 },
 "nbformat": 4,
 "nbformat_minor": 2
}
